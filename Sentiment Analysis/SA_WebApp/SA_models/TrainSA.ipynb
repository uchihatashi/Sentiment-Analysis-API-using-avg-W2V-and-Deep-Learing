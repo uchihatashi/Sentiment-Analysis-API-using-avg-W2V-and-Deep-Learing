{
 "cells": [
  {
   "cell_type": "code",
   "execution_count": 1,
   "metadata": {},
   "outputs": [],
   "source": [
    "# importing libraries\n",
    "import pandas as pd \n",
    "import pickle\n",
    "import numpy as np\n",
    "import re\n",
    "from tqdm import tqdm\n",
    "\n",
    "import nltk\n",
    "from nltk import WordNetLemmatizer\n",
    "import gensim\n",
    "from gensim.models import Word2Vec\n",
    "\n",
    "from sklearn.model_selection import train_test_split\n",
    "\n",
    "import keras\n",
    "from keras.models import Sequential\n",
    "from keras.layers import Dense\n",
    "from keras.layers import Dropout\n",
    "from keras.layers import Flatten\n",
    "from keras.optimizers import Adam\n",
    "from keras.optimizers import RMSprop\n",
    "\n",
    "import matplotlib.pyplot as plt\n",
    "%matplotlib inline"
   ]
  },
  {
   "cell_type": "code",
   "execution_count": null,
   "metadata": {},
   "outputs": [],
   "source": []
  },
  {
   "cell_type": "code",
   "execution_count": 2,
   "metadata": {},
   "outputs": [
    {
     "data": {
      "text/html": [
       "<div>\n",
       "<style scoped>\n",
       "    .dataframe tbody tr th:only-of-type {\n",
       "        vertical-align: middle;\n",
       "    }\n",
       "\n",
       "    .dataframe tbody tr th {\n",
       "        vertical-align: top;\n",
       "    }\n",
       "\n",
       "    .dataframe thead th {\n",
       "        text-align: right;\n",
       "    }\n",
       "</style>\n",
       "<table border=\"1\" class=\"dataframe\">\n",
       "  <thead>\n",
       "    <tr style=\"text-align: right;\">\n",
       "      <th></th>\n",
       "      <th>Unnamed: 0</th>\n",
       "      <th>airline_sentiment</th>\n",
       "      <th>text</th>\n",
       "    </tr>\n",
       "  </thead>\n",
       "  <tbody>\n",
       "    <tr>\n",
       "      <th>0</th>\n",
       "      <td>1</td>\n",
       "      <td>positive</td>\n",
       "      <td>@VirginAmerica plus you've added commercials t...</td>\n",
       "    </tr>\n",
       "    <tr>\n",
       "      <th>1</th>\n",
       "      <td>3</td>\n",
       "      <td>negative</td>\n",
       "      <td>@VirginAmerica it's really aggressive to blast...</td>\n",
       "    </tr>\n",
       "    <tr>\n",
       "      <th>2</th>\n",
       "      <td>4</td>\n",
       "      <td>negative</td>\n",
       "      <td>@VirginAmerica and it's a really big bad thing...</td>\n",
       "    </tr>\n",
       "    <tr>\n",
       "      <th>3</th>\n",
       "      <td>5</td>\n",
       "      <td>negative</td>\n",
       "      <td>@VirginAmerica seriously would pay $30 a fligh...</td>\n",
       "    </tr>\n",
       "    <tr>\n",
       "      <th>4</th>\n",
       "      <td>6</td>\n",
       "      <td>positive</td>\n",
       "      <td>@VirginAmerica yes, nearly every time I fly VX...</td>\n",
       "    </tr>\n",
       "  </tbody>\n",
       "</table>\n",
       "</div>"
      ],
      "text/plain": [
       "   Unnamed: 0 airline_sentiment  \\\n",
       "0           1          positive   \n",
       "1           3          negative   \n",
       "2           4          negative   \n",
       "3           5          negative   \n",
       "4           6          positive   \n",
       "\n",
       "                                                text  \n",
       "0  @VirginAmerica plus you've added commercials t...  \n",
       "1  @VirginAmerica it's really aggressive to blast...  \n",
       "2  @VirginAmerica and it's a really big bad thing...  \n",
       "3  @VirginAmerica seriously would pay $30 a fligh...  \n",
       "4  @VirginAmerica yes, nearly every time I fly VX...  "
      ]
     },
     "execution_count": 2,
     "metadata": {},
     "output_type": "execute_result"
    }
   ],
   "source": [
    "df = pd.read_csv(\"airline_sentiment_analysis.csv\", encoding=\"latin-1\")\n",
    "df.head()"
   ]
  },
  {
   "cell_type": "code",
   "execution_count": 3,
   "metadata": {},
   "outputs": [
    {
     "name": "stdout",
     "output_type": "stream",
     "text": [
      "(11541,)\n"
     ]
    }
   ],
   "source": [
    "X = df[\"text\"]\n",
    "X.head()\n",
    "print(X.shape)"
   ]
  },
  {
   "cell_type": "code",
   "execution_count": 4,
   "metadata": {},
   "outputs": [
    {
     "data": {
      "text/plain": [
       "0    1\n",
       "1    0\n",
       "2    0\n",
       "3    0\n",
       "4    1\n",
       "Name: airline_sentiment, dtype: int64"
      ]
     },
     "execution_count": 4,
     "metadata": {},
     "output_type": "execute_result"
    }
   ],
   "source": [
    "y = df[\"airline_sentiment\"].map({\"positive\":1, \"negative\":0})\n",
    "y.head()"
   ]
  },
  {
   "cell_type": "code",
   "execution_count": 5,
   "metadata": {},
   "outputs": [],
   "source": [
    "def decontracted(phrase):\n",
    "    \"\"\"\n",
    "    \"\"\"\n",
    "    \n",
    "    phrase = re.sub(r\"won't\", \"will not\", phrase)\n",
    "    phrase = re.sub(r\"can\\'t\", \"can not\", phrase)\n",
    "    phrase = re.sub(r\"n\\'t\", \" not\", phrase)\n",
    "    phrase = re.sub(r\"\\'re\", \" are\", phrase)\n",
    "    phrase = re.sub(r\"\\'s\", \" is\", phrase)\n",
    "    phrase = re.sub(r\"\\'d\", \" would\", phrase)\n",
    "    phrase = re.sub(r\"\\'ll\", \" will\", phrase)\n",
    "    phrase = re.sub(r\"\\'t\", \" not\", phrase)\n",
    "    phrase = re.sub(r\"\\'ve\", \" have\", phrase)\n",
    "    phrase = re.sub(r\"\\'m\", \" am\", phrase)\n",
    "    \n",
    "    return phrase"
   ]
  },
  {
   "cell_type": "code",
   "execution_count": 6,
   "metadata": {},
   "outputs": [],
   "source": [
    "# by refering to this github link https://gist.github.com/sebleier/554280\n",
    "# we are removing the words from the stopwords list like: 'no', 'nor', 'not' \n",
    "# from nltk.corpus import stopwords\n",
    "# print (stopwords.words('english'))\n",
    "\n",
    "stopwords= set(['br', 'the', 'i', 'me', 'my', 'myself', 'we', 'our', 'ours', 'ourselves', 'you', \"you're\", \"you've\",\\\n",
    "            \"you'll\", \"you'd\", 'your', 'yours', 'yourself', 'yourselves', 'he', 'him', 'his', 'himself', \\\n",
    "            'she', \"she's\", 'her', 'hers', 'herself', 'it', \"it's\", 'its', 'itself', 'they', 'them', 'their',\\\n",
    "            'theirs', 'themselves', 'what', 'which', 'who', 'whom', 'this', 'that', \"that'll\", 'these', 'those', \\\n",
    "            'am', 'is', 'are', 'was', 'were', 'be', 'been', 'being', 'have', 'has', 'had', 'having', 'do', 'does', \\\n",
    "            'did', 'doing', 'a', 'an', 'the', 'and', 'but', 'if', 'or', 'because', 'as', 'until', 'while', 'of', \\\n",
    "            'at', 'by', 'for', 'with', 'about', 'against', 'between', 'into', 'through', 'during', 'before', 'after',\\\n",
    "            'above', 'below', 'to', 'from', 'up', 'down', 'in', 'out', 'on', 'off', 'over', 'under', 'again', 'further',\\\n",
    "            'then', 'once', 'here', 'there', 'when', 'where', 'why', 'how', 'all', 'any', 'both', 'each', 'few', 'more',\\\n",
    "            'most', 'other', 'some', 'such', 'only', 'own', 'same', 'so', 'than', 'too', 'very', \\\n",
    "            's', 't', 'can', 'will', 'just', 'don', \"don't\", 'should', \"should've\", 'now', 'd', 'll', 'm', 'o', 're', \\\n",
    "            've', 'y', 'ain', 'aren', \"aren't\", 'couldn', \"couldn't\", 'didn', \"didn't\", 'doesn', \"doesn't\", 'hadn',\\\n",
    "            \"hadn't\", 'hasn', \"hasn't\", 'haven', \"haven't\", 'isn', \"isn't\", 'ma', 'mightn', \"mightn't\", 'mustn',\\\n",
    "            \"mustn't\", 'needn', \"needn't\", 'shan', \"shan't\", 'shouldn', \"shouldn't\", 'wasn', \"wasn't\", 'weren', \"weren't\", \\\n",
    "            'won', \"won't\", 'wouldn', \"wouldn't\"])\n",
    "\n",
    "len(stopwords)\n",
    "lemmatizer = WordNetLemmatizer()"
   ]
  },
  {
   "cell_type": "code",
   "execution_count": 7,
   "metadata": {},
   "outputs": [],
   "source": [
    "def print_10(lists):\n",
    "    for i in range(10):\n",
    "        print(lists[i], \"\\n\")"
   ]
  },
  {
   "cell_type": "code",
   "execution_count": 8,
   "metadata": {},
   "outputs": [],
   "source": [
    "def text_preprocessing(text):\n",
    "    \"\"\"\n",
    "    \"\"\"\n",
    "    text = text.lower()\n",
    "    text = re.sub(r\"http\\S+\", \"\", text) # removing any links in the text\n",
    "    text = re.sub(r\"@\\S+\", \"\", text) # we need to remove all username as it dosen't contribute to SA \n",
    "    text = text.replace(\"#\", \"\") # removing hash but keeping text #fabulous => fabulous    \n",
    "    text = decontracted(text) \n",
    "    text = re.sub(\"\\S*\\d\\S*\", \"\", text).strip() # remove words with numbers python: https://stackoverflow.com/a/18082370/4084039\n",
    "    text = re.sub('[^A-Za-z0-9]+', ' ', text) # remove spacial character: https://stackoverflow.com/a/5843547/4084039\n",
    "    text = ' '.join(e for e in text.split() if e not in stopwords) # using own created stopwords \n",
    "    # removing any words which have less than 3 character and lemmatizer those words having higher than 2 character\n",
    "    text = ' '.join(lemmatizer.lemmatize(e) for e in text.split() if len(e) > 2) \n",
    "        \n",
    "    return text\n"
   ]
  },
  {
   "cell_type": "code",
   "execution_count": 9,
   "metadata": {},
   "outputs": [
    {
     "name": "stderr",
     "output_type": "stream",
     "text": [
      "100%|██████████████████████████████████████████████████████████████████████████| 11541/11541 [00:02<00:00, 5131.67it/s]"
     ]
    },
    {
     "name": "stdout",
     "output_type": "stream",
     "text": [
      "plus added commercial experience tacky \n",
      "\n",
      "really aggressive blast obnoxious entertainment guest face amp little recourse \n",
      "\n",
      "really big bad thing \n",
      "\n",
      "seriously would pay flight seat not playing really bad thing flying \n",
      "\n",
      "yes nearly every time fly ear worm away \n",
      "\n",
      "well not \n",
      "\n",
      "amazing arrived hour early good \n",
      "\n",
      "pretty graphic much better minimal iconography \n",
      "\n",
      "great deal already thinking trip amp not even gone trip yet \n",
      "\n",
      "flying fabulous seductive sky take stress away travel \n",
      "\n"
     ]
    },
    {
     "name": "stderr",
     "output_type": "stream",
     "text": [
      "\n"
     ]
    }
   ],
   "source": [
    "preprocessed_X = []\n",
    "for text in tqdm(X.values):\n",
    "    preprocessed_X.append( text_preprocessing(text) )\n",
    "    \n",
    "print_10(preprocessed_X)\n"
   ]
  },
  {
   "cell_type": "code",
   "execution_count": 10,
   "metadata": {},
   "outputs": [
    {
     "name": "stderr",
     "output_type": "stream",
     "text": [
      "100%|████████████████████████████████████████████████████████████████████████| 11541/11541 [00:00<00:00, 804414.76it/s]\n"
     ]
    }
   ],
   "source": [
    "list_of_words=[]\n",
    "for words in tqdm(preprocessed_X):\n",
    "    list_of_words.append(words.split())\n",
    "    "
   ]
  },
  {
   "cell_type": "code",
   "execution_count": 11,
   "metadata": {},
   "outputs": [
    {
     "name": "stdout",
     "output_type": "stream",
     "text": [
      "['plus', 'added', 'commercial', 'experience', 'tacky'] \n",
      "\n",
      "['really', 'aggressive', 'blast', 'obnoxious', 'entertainment', 'guest', 'face', 'amp', 'little', 'recourse'] \n",
      "\n",
      "['really', 'big', 'bad', 'thing'] \n",
      "\n",
      "['seriously', 'would', 'pay', 'flight', 'seat', 'not', 'playing', 'really', 'bad', 'thing', 'flying'] \n",
      "\n",
      "['yes', 'nearly', 'every', 'time', 'fly', 'ear', 'worm', 'away'] \n",
      "\n",
      "['well', 'not'] \n",
      "\n",
      "['amazing', 'arrived', 'hour', 'early', 'good'] \n",
      "\n",
      "['pretty', 'graphic', 'much', 'better', 'minimal', 'iconography'] \n",
      "\n",
      "['great', 'deal', 'already', 'thinking', 'trip', 'amp', 'not', 'even', 'gone', 'trip', 'yet'] \n",
      "\n",
      "['flying', 'fabulous', 'seductive', 'sky', 'take', 'stress', 'away', 'travel'] \n",
      "\n"
     ]
    }
   ],
   "source": [
    "print_10(list_of_words)"
   ]
  },
  {
   "cell_type": "code",
   "execution_count": 12,
   "metadata": {},
   "outputs": [],
   "source": [
    "# min_count = 5 considers only words that occured atleast 5 times and size=50 as we have small dataset and i want to keep smaller dimension\n",
    "w2v_model = Word2Vec(size=50, min_count=5, workers=4)\n",
    "w2v_model.build_vocab(list_of_words)"
   ]
  },
  {
   "cell_type": "code",
   "execution_count": 13,
   "metadata": {},
   "outputs": [
    {
     "name": "stdout",
     "output_type": "stream",
     "text": [
      "11541\n"
     ]
    }
   ],
   "source": [
    "total_corpus = w2v_model.corpus_count\n",
    "print(total_corpus)"
   ]
  },
  {
   "cell_type": "code",
   "execution_count": 14,
   "metadata": {},
   "outputs": [
    {
     "name": "stderr",
     "output_type": "stream",
     "text": [
      "<ipython-input-14-4a7a47f594af>:1: DeprecationWarning: Call to deprecated `iter` (Attribute will be removed in 4.0.0, use self.epochs instead).\n",
      "  w2v_model.train(list_of_words, total_examples=total_corpus, epochs=w2v_model.iter)\n"
     ]
    },
    {
     "data": {
      "text/plain": [
       "(392446, 520305)"
      ]
     },
     "execution_count": 14,
     "metadata": {},
     "output_type": "execute_result"
    }
   ],
   "source": [
    "w2v_model.train(list_of_words, total_examples=total_corpus, epochs=w2v_model.iter) "
   ]
  },
  {
   "cell_type": "code",
   "execution_count": 15,
   "metadata": {},
   "outputs": [],
   "source": [
    "# Save the w2v model\n",
    "w2v_model.save('w2vmodel')\n",
    "# Load the w2v model\n",
    "new_w2v_model = gensim.models.Word2Vec.load('w2vmodel')"
   ]
  },
  {
   "cell_type": "code",
   "execution_count": 16,
   "metadata": {},
   "outputs": [
    {
     "name": "stdout",
     "output_type": "stream",
     "text": [
      "(50,)\n",
      "==================================================================================================== \n",
      "\n",
      "[-0.00792831  0.08594432  0.00706647  0.32977265  0.40310773  1.1402475\n",
      "  0.12192062 -0.37139836  0.2056133   0.08016017  0.01239201  0.9805554\n",
      " -0.7341073  -0.6557884  -0.45287797  0.10568689  0.07755177 -0.00469122\n",
      " -0.11535216  0.2562798  -0.31044713  0.18143858 -0.12209068  0.18925498\n",
      "  0.01808091 -0.315106   -0.29021916  0.4664074  -0.18621045  0.01895311\n",
      "  0.02997638 -0.62632537 -0.5381376  -0.06070141 -0.43747312  0.14601158\n",
      "  0.2833449  -0.31920508 -0.38978255  0.02233131  0.49345294 -0.73430645\n",
      "  0.02713894  0.5560155   0.21398927  0.56025845  0.53205675  0.5178734\n",
      "  0.44109225  0.39053148]\n",
      "==================================================================================================== \n",
      "\n",
      "[('guy', 0.9986984729766846), ('best', 0.9986656904220581), ('care', 0.9986512064933777), ('thank', 0.9985325336456299), ('terrible', 0.998488187789917), ('horrible', 0.9984557628631592), ('poor', 0.9983687996864319), ('excellent', 0.9983378648757935), ('fly', 0.9979518055915833), ('amazing', 0.9978809952735901)]\n",
      "==================================================================================================== \n",
      "\n"
     ]
    },
    {
     "name": "stderr",
     "output_type": "stream",
     "text": [
      "<ipython-input-16-88acc86b8f0e>:1: DeprecationWarning: Call to deprecated `__getitem__` (Method will be removed in 4.0.0, use self.wv.__getitem__() instead).\n",
      "  print(new_w2v_model[\"great\"].shape)\n",
      "<ipython-input-16-88acc86b8f0e>:3: DeprecationWarning: Call to deprecated `__getitem__` (Method will be removed in 4.0.0, use self.wv.__getitem__() instead).\n",
      "  print(new_w2v_model[\"great\"])\n",
      "<ipython-input-16-88acc86b8f0e>:5: DeprecationWarning: Call to deprecated `most_similar` (Method will be removed in 4.0.0, use self.wv.most_similar() instead).\n",
      "  print(new_w2v_model.most_similar(\"great\"))\n"
     ]
    }
   ],
   "source": [
    "print(new_w2v_model[\"great\"].shape)\n",
    "print('='*100,\"\\n\")\n",
    "print(new_w2v_model[\"great\"])\n",
    "print('='*100, \"\\n\")\n",
    "print(new_w2v_model.most_similar(\"great\"))\n",
    "print('='*100, \"\\n\")"
   ]
  },
  {
   "cell_type": "code",
   "execution_count": 17,
   "metadata": {},
   "outputs": [],
   "source": [
    "def createWordVector(each_text, size=50):\n",
    "    \"\"\"\n",
    "    \"\"\"\n",
    "    vec = np.zeros(size).reshape(size)\n",
    "    count = 0.\n",
    "    for word in each_text:\n",
    "        try:\n",
    "            vec += new_w2v_model[word].reshape(size)\n",
    "            count += 1.\n",
    "            \n",
    "        except KeyError: # handling the case where the each_text is not\n",
    "                         # in the corpus. useful for testing.\n",
    "            continue\n",
    "    if count != 0: \n",
    "        vec /= count\n",
    "        \n",
    "    return vec"
   ]
  },
  {
   "cell_type": "code",
   "execution_count": 18,
   "metadata": {},
   "outputs": [],
   "source": [
    "#Splitting for training and testing\n",
    "x_train, x_test, y_train, y_test = train_test_split(np.array(list_of_words), np.array(y), test_size=0.3)\n"
   ]
  },
  {
   "cell_type": "code",
   "execution_count": 19,
   "metadata": {},
   "outputs": [
    {
     "data": {
      "text/plain": [
       "8078"
      ]
     },
     "execution_count": 19,
     "metadata": {},
     "output_type": "execute_result"
    }
   ],
   "source": [
    "len(x_train)"
   ]
  },
  {
   "cell_type": "code",
   "execution_count": 20,
   "metadata": {},
   "outputs": [
    {
     "name": "stderr",
     "output_type": "stream",
     "text": [
      "<ipython-input-17-14983b8106c4>:8: DeprecationWarning: Call to deprecated `__getitem__` (Method will be removed in 4.0.0, use self.wv.__getitem__() instead).\n",
      "  vec += new_w2v_model[word].reshape(size)\n"
     ]
    }
   ],
   "source": [
    "x_train_v2w = list(map(createWordVector, x_train))"
   ]
  },
  {
   "cell_type": "code",
   "execution_count": 21,
   "metadata": {},
   "outputs": [
    {
     "name": "stderr",
     "output_type": "stream",
     "text": [
      "<ipython-input-17-14983b8106c4>:8: DeprecationWarning: Call to deprecated `__getitem__` (Method will be removed in 4.0.0, use self.wv.__getitem__() instead).\n",
      "  vec += new_w2v_model[word].reshape(size)\n"
     ]
    }
   ],
   "source": [
    "x_test_v2w = list(map(createWordVector, x_test))"
   ]
  },
  {
   "cell_type": "code",
   "execution_count": 22,
   "metadata": {},
   "outputs": [
    {
     "name": "stdout",
     "output_type": "stream",
     "text": [
      "8078\n"
     ]
    }
   ],
   "source": [
    "print(len(x_train_v2w))"
   ]
  },
  {
   "cell_type": "code",
   "execution_count": 23,
   "metadata": {},
   "outputs": [],
   "source": [
    "x_train_v2w = np.array(x_train_v2w)\n",
    "x_test_v2w = np.array(x_test_v2w)"
   ]
  },
  {
   "cell_type": "code",
   "execution_count": 24,
   "metadata": {},
   "outputs": [
    {
     "data": {
      "text/plain": [
       "(8078, 50)"
      ]
     },
     "execution_count": 24,
     "metadata": {},
     "output_type": "execute_result"
    }
   ],
   "source": [
    "x_train_v2w.shape"
   ]
  },
  {
   "cell_type": "code",
   "execution_count": 25,
   "metadata": {},
   "outputs": [
    {
     "data": {
      "text/plain": [
       "(3463, 50)"
      ]
     },
     "execution_count": 25,
     "metadata": {},
     "output_type": "execute_result"
    }
   ],
   "source": [
    "x_test_v2w.shape"
   ]
  },
  {
   "cell_type": "code",
   "execution_count": 26,
   "metadata": {},
   "outputs": [],
   "source": [
    "assert(x_train_v2w.shape[0] == y_train.shape[0]), \"The number of train_text is not equal to the number of labels.\"\n",
    "assert(x_train_v2w.shape[1] == (50)), \"The dimensions of the train_text(w2v) are not 50\"\n",
    "assert(x_test_v2w.shape[0] == y_test.shape[0]), \"The number of test text is not equal to the number of labels.\"\n",
    "assert(x_test_v2w.shape[1] == (50)), \"The dimensions of the test text(w2v) are not 50\"\n"
   ]
  },
  {
   "cell_type": "markdown",
   "metadata": {},
   "source": [
    "## LogisticRegression Model"
   ]
  },
  {
   "cell_type": "code",
   "execution_count": 28,
   "metadata": {},
   "outputs": [],
   "source": [
    "from sklearn import linear_model"
   ]
  },
  {
   "cell_type": "code",
   "execution_count": 29,
   "metadata": {},
   "outputs": [
    {
     "data": {
      "text/plain": [
       "LogisticRegression()"
      ]
     },
     "execution_count": 29,
     "metadata": {},
     "output_type": "execute_result"
    }
   ],
   "source": [
    "reg = linear_model.LogisticRegression(solver='lbfgs')\n",
    "reg.fit(x_train_v2w, y_train)"
   ]
  },
  {
   "cell_type": "code",
   "execution_count": 30,
   "metadata": {},
   "outputs": [
    {
     "data": {
      "text/plain": [
       "0.8201287447387967"
      ]
     },
     "execution_count": 30,
     "metadata": {},
     "output_type": "execute_result"
    }
   ],
   "source": [
    "reg.score(x_train_v2w, y_train)"
   ]
  },
  {
   "cell_type": "code",
   "execution_count": 31,
   "metadata": {},
   "outputs": [
    {
     "data": {
      "text/plain": [
       "0.8166329771874098"
      ]
     },
     "execution_count": 31,
     "metadata": {},
     "output_type": "execute_result"
    }
   ],
   "source": [
    "reg.score(x_test_v2w, y_test)"
   ]
  },
  {
   "cell_type": "code",
   "execution_count": null,
   "metadata": {},
   "outputs": [],
   "source": []
  },
  {
   "cell_type": "markdown",
   "metadata": {},
   "source": [
    "## SVM Model"
   ]
  },
  {
   "cell_type": "code",
   "execution_count": 32,
   "metadata": {},
   "outputs": [],
   "source": [
    "from sklearn.svm import SVC as svmc"
   ]
  },
  {
   "cell_type": "code",
   "execution_count": 98,
   "metadata": {},
   "outputs": [
    {
     "data": {
      "text/plain": [
       "SVC(kernel='linear')"
      ]
     },
     "execution_count": 98,
     "metadata": {},
     "output_type": "execute_result"
    }
   ],
   "source": [
    "svm = svmc(kernel='linear', C=1.0)\n",
    "svm.fit(x_train_v2w, y_train)"
   ]
  },
  {
   "cell_type": "code",
   "execution_count": 99,
   "metadata": {},
   "outputs": [],
   "source": [
    "y_pred = svm.predict(x_test_v2w)"
   ]
  },
  {
   "cell_type": "code",
   "execution_count": 100,
   "metadata": {},
   "outputs": [],
   "source": [
    "from sklearn import metrics"
   ]
  },
  {
   "cell_type": "code",
   "execution_count": 101,
   "metadata": {},
   "outputs": [
    {
     "name": "stdout",
     "output_type": "stream",
     "text": [
      "Accuracy: 0.8172105111175282\n"
     ]
    }
   ],
   "source": [
    "print(\"Accuracy:\", metrics.accuracy_score(y_test, y_pred))"
   ]
  },
  {
   "cell_type": "code",
   "execution_count": 102,
   "metadata": {},
   "outputs": [
    {
     "data": {
      "text/plain": [
       "0.8172815053230997"
      ]
     },
     "execution_count": 102,
     "metadata": {},
     "output_type": "execute_result"
    }
   ],
   "source": [
    "svm.score(x_train_v2w, y_train)"
   ]
  },
  {
   "cell_type": "code",
   "execution_count": null,
   "metadata": {},
   "outputs": [],
   "source": []
  },
  {
   "cell_type": "markdown",
   "metadata": {},
   "source": [
    "## Random Forest"
   ]
  },
  {
   "cell_type": "code",
   "execution_count": 36,
   "metadata": {},
   "outputs": [],
   "source": [
    "from sklearn.ensemble import RandomForestClassifier"
   ]
  },
  {
   "cell_type": "code",
   "execution_count": 92,
   "metadata": {},
   "outputs": [],
   "source": [
    "randClf = RandomForestClassifier(n_estimators=4000, max_depth=20, max_features=\"log2\", min_samples_leaf=3, random_state=0)\n"
   ]
  },
  {
   "cell_type": "code",
   "execution_count": 93,
   "metadata": {},
   "outputs": [
    {
     "data": {
      "text/plain": [
       "RandomForestClassifier(max_depth=20, max_features='log2', min_samples_leaf=3,\n",
       "                       n_estimators=4000, random_state=0)"
      ]
     },
     "execution_count": 93,
     "metadata": {},
     "output_type": "execute_result"
    }
   ],
   "source": [
    "randClf.fit(x_train_v2w, y_train)"
   ]
  },
  {
   "cell_type": "code",
   "execution_count": 94,
   "metadata": {},
   "outputs": [
    {
     "data": {
      "text/plain": [
       "0.9659569200297103"
      ]
     },
     "execution_count": 94,
     "metadata": {},
     "output_type": "execute_result"
    }
   ],
   "source": [
    "randClf.score(x_train_v2w, y_train)"
   ]
  },
  {
   "cell_type": "code",
   "execution_count": 95,
   "metadata": {},
   "outputs": [],
   "source": [
    "y_pred = randClf.predict(x_test_v2w)"
   ]
  },
  {
   "cell_type": "code",
   "execution_count": 96,
   "metadata": {},
   "outputs": [
    {
     "name": "stdout",
     "output_type": "stream",
     "text": [
      "Accuracy: 0.8504187120993358\n"
     ]
    }
   ],
   "source": [
    "print(\"Accuracy:\",metrics.accuracy_score(y_test, y_pred))"
   ]
  },
  {
   "cell_type": "code",
   "execution_count": 97,
   "metadata": {},
   "outputs": [
    {
     "data": {
      "text/plain": [
       "0.8504187120993358"
      ]
     },
     "execution_count": 97,
     "metadata": {},
     "output_type": "execute_result"
    }
   ],
   "source": [
    "randClf.score(x_test_v2w, y_test)"
   ]
  },
  {
   "cell_type": "code",
   "execution_count": null,
   "metadata": {},
   "outputs": [],
   "source": []
  },
  {
   "cell_type": "markdown",
   "metadata": {},
   "source": [
    "## Gaussian Naive Bayes model"
   ]
  },
  {
   "cell_type": "code",
   "execution_count": 81,
   "metadata": {},
   "outputs": [],
   "source": [
    "from sklearn.naive_bayes import GaussianNB"
   ]
  },
  {
   "cell_type": "code",
   "execution_count": 83,
   "metadata": {},
   "outputs": [],
   "source": [
    "NBModel = GaussianNB()"
   ]
  },
  {
   "cell_type": "code",
   "execution_count": 84,
   "metadata": {},
   "outputs": [
    {
     "data": {
      "text/plain": [
       "GaussianNB()"
      ]
     },
     "execution_count": 84,
     "metadata": {},
     "output_type": "execute_result"
    }
   ],
   "source": [
    "NBModel.fit(x_train_v2w, y_train)"
   ]
  },
  {
   "cell_type": "code",
   "execution_count": 85,
   "metadata": {},
   "outputs": [
    {
     "data": {
      "text/plain": [
       "0.6666254023273087"
      ]
     },
     "execution_count": 85,
     "metadata": {},
     "output_type": "execute_result"
    }
   ],
   "source": [
    "NBModel.score(x_train_v2w, y_train)"
   ]
  },
  {
   "cell_type": "code",
   "execution_count": 86,
   "metadata": {},
   "outputs": [
    {
     "data": {
      "text/plain": [
       "0.6503032053133122"
      ]
     },
     "execution_count": 86,
     "metadata": {},
     "output_type": "execute_result"
    }
   ],
   "source": [
    "NBModel.score(x_test_v2w, y_test)"
   ]
  },
  {
   "cell_type": "code",
   "execution_count": 111,
   "metadata": {},
   "outputs": [
    {
     "data": {
      "text/plain": [
       "(8078, 50)"
      ]
     },
     "execution_count": 111,
     "metadata": {},
     "output_type": "execute_result"
    }
   ],
   "source": [
    "x_train_v2w.shape"
   ]
  },
  {
   "cell_type": "code",
   "execution_count": null,
   "metadata": {},
   "outputs": [],
   "source": []
  },
  {
   "cell_type": "markdown",
   "metadata": {},
   "source": [
    "## Dense Network Model1 - Adam()"
   ]
  },
  {
   "cell_type": "code",
   "execution_count": 112,
   "metadata": {},
   "outputs": [],
   "source": [
    "def model1():\n",
    "    model = Sequential()\n",
    "    model.add(Dense(40, activation='relu', input_dim=50))\n",
    "    model.add(Dropout(0.4))\n",
    "    model.add(Dense(20, activation='relu'))\n",
    "    model.add(Dropout(0.4))\n",
    "    model.add(Dense(8, activation='relu'))\n",
    "    model.add(Dense(1, activation='sigmoid'))\n",
    "\n",
    "    model.compile(Adam(lr = 0.001), loss='binary_crossentropy', metrics=['accuracy'])\n",
    "    print(model.summary())\n",
    "    return model\n"
   ]
  },
  {
   "cell_type": "code",
   "execution_count": 113,
   "metadata": {},
   "outputs": [
    {
     "name": "stdout",
     "output_type": "stream",
     "text": [
      "Model: \"sequential_3\"\n",
      "_________________________________________________________________\n",
      "Layer (type)                 Output Shape              Param #   \n",
      "=================================================================\n",
      "dense_3 (Dense)              (None, 40)                2040      \n",
      "_________________________________________________________________\n",
      "dropout (Dropout)            (None, 40)                0         \n",
      "_________________________________________________________________\n",
      "dense_4 (Dense)              (None, 20)                820       \n",
      "_________________________________________________________________\n",
      "dropout_1 (Dropout)          (None, 20)                0         \n",
      "_________________________________________________________________\n",
      "dense_5 (Dense)              (None, 8)                 168       \n",
      "_________________________________________________________________\n",
      "dense_6 (Dense)              (None, 1)                 9         \n",
      "=================================================================\n",
      "Total params: 3,037\n",
      "Trainable params: 3,037\n",
      "Non-trainable params: 0\n",
      "_________________________________________________________________\n",
      "None\n"
     ]
    }
   ],
   "source": [
    "model1 = model1()"
   ]
  },
  {
   "cell_type": "code",
   "execution_count": 114,
   "metadata": {},
   "outputs": [
    {
     "name": "stdout",
     "output_type": "stream",
     "text": [
      "Epoch 1/100\n",
      "101/101 - 0s - loss: 0.5563 - accuracy: 0.7649 - val_loss: 0.5212 - val_accuracy: 0.7877\n",
      "Epoch 2/100\n",
      "101/101 - 0s - loss: 0.5136 - accuracy: 0.7956 - val_loss: 0.5018 - val_accuracy: 0.7877\n",
      "Epoch 3/100\n",
      "101/101 - 0s - loss: 0.4976 - accuracy: 0.7956 - val_loss: 0.4919 - val_accuracy: 0.7877\n",
      "Epoch 4/100\n",
      "101/101 - 0s - loss: 0.4862 - accuracy: 0.7956 - val_loss: 0.4784 - val_accuracy: 0.7877\n",
      "Epoch 5/100\n",
      "101/101 - 0s - loss: 0.4763 - accuracy: 0.7956 - val_loss: 0.4720 - val_accuracy: 0.7877\n",
      "Epoch 6/100\n",
      "101/101 - 0s - loss: 0.4718 - accuracy: 0.7956 - val_loss: 0.4655 - val_accuracy: 0.7877\n",
      "Epoch 7/100\n",
      "101/101 - 0s - loss: 0.4664 - accuracy: 0.7956 - val_loss: 0.4633 - val_accuracy: 0.7877\n",
      "Epoch 8/100\n",
      "101/101 - 0s - loss: 0.4661 - accuracy: 0.7956 - val_loss: 0.4599 - val_accuracy: 0.7877\n",
      "Epoch 9/100\n",
      "101/101 - 0s - loss: 0.4649 - accuracy: 0.7956 - val_loss: 0.4618 - val_accuracy: 0.7877\n",
      "Epoch 10/100\n",
      "101/101 - 0s - loss: 0.4646 - accuracy: 0.7956 - val_loss: 0.4601 - val_accuracy: 0.7877\n",
      "Epoch 11/100\n",
      "101/101 - 0s - loss: 0.4618 - accuracy: 0.7956 - val_loss: 0.4568 - val_accuracy: 0.7877\n",
      "Epoch 12/100\n",
      "101/101 - 0s - loss: 0.4621 - accuracy: 0.7956 - val_loss: 0.4540 - val_accuracy: 0.7877\n",
      "Epoch 13/100\n",
      "101/101 - 0s - loss: 0.4572 - accuracy: 0.7956 - val_loss: 0.4524 - val_accuracy: 0.7877\n",
      "Epoch 14/100\n",
      "101/101 - 0s - loss: 0.4579 - accuracy: 0.7956 - val_loss: 0.4508 - val_accuracy: 0.7877\n",
      "Epoch 15/100\n",
      "101/101 - 0s - loss: 0.4544 - accuracy: 0.7956 - val_loss: 0.4525 - val_accuracy: 0.7877\n",
      "Epoch 16/100\n",
      "101/101 - 0s - loss: 0.4523 - accuracy: 0.7956 - val_loss: 0.4476 - val_accuracy: 0.7877\n",
      "Epoch 17/100\n",
      "101/101 - 0s - loss: 0.4504 - accuracy: 0.7956 - val_loss: 0.4451 - val_accuracy: 0.7877\n",
      "Epoch 18/100\n",
      "101/101 - 0s - loss: 0.4506 - accuracy: 0.7956 - val_loss: 0.4454 - val_accuracy: 0.7877\n",
      "Epoch 19/100\n",
      "101/101 - 0s - loss: 0.4477 - accuracy: 0.7956 - val_loss: 0.4405 - val_accuracy: 0.7877\n",
      "Epoch 20/100\n",
      "101/101 - 0s - loss: 0.4459 - accuracy: 0.7956 - val_loss: 0.4388 - val_accuracy: 0.7877\n",
      "Epoch 21/100\n",
      "101/101 - 0s - loss: 0.4466 - accuracy: 0.7956 - val_loss: 0.4379 - val_accuracy: 0.7877\n",
      "Epoch 22/100\n",
      "101/101 - 0s - loss: 0.4442 - accuracy: 0.7956 - val_loss: 0.4370 - val_accuracy: 0.7877\n",
      "Epoch 23/100\n",
      "101/101 - 0s - loss: 0.4434 - accuracy: 0.7956 - val_loss: 0.4377 - val_accuracy: 0.7877\n",
      "Epoch 24/100\n",
      "101/101 - 0s - loss: 0.4409 - accuracy: 0.7956 - val_loss: 0.4319 - val_accuracy: 0.7877\n",
      "Epoch 25/100\n",
      "101/101 - 0s - loss: 0.4389 - accuracy: 0.7956 - val_loss: 0.4322 - val_accuracy: 0.7877\n",
      "Epoch 26/100\n",
      "101/101 - 0s - loss: 0.4384 - accuracy: 0.7956 - val_loss: 0.4289 - val_accuracy: 0.7877\n",
      "Epoch 27/100\n",
      "101/101 - 0s - loss: 0.4387 - accuracy: 0.7956 - val_loss: 0.4274 - val_accuracy: 0.7877\n",
      "Epoch 28/100\n",
      "101/101 - 0s - loss: 0.4375 - accuracy: 0.7956 - val_loss: 0.4230 - val_accuracy: 0.7877\n",
      "Epoch 29/100\n",
      "101/101 - 0s - loss: 0.4352 - accuracy: 0.7956 - val_loss: 0.4208 - val_accuracy: 0.7877\n",
      "Epoch 30/100\n",
      "101/101 - 0s - loss: 0.4340 - accuracy: 0.7956 - val_loss: 0.4274 - val_accuracy: 0.7877\n",
      "Epoch 31/100\n",
      "101/101 - 0s - loss: 0.4351 - accuracy: 0.7956 - val_loss: 0.4216 - val_accuracy: 0.7877\n",
      "Epoch 32/100\n",
      "101/101 - 0s - loss: 0.4318 - accuracy: 0.7956 - val_loss: 0.4230 - val_accuracy: 0.7877\n",
      "Epoch 33/100\n",
      "101/101 - 0s - loss: 0.4307 - accuracy: 0.7956 - val_loss: 0.4181 - val_accuracy: 0.7877\n",
      "Epoch 34/100\n",
      "101/101 - 0s - loss: 0.4267 - accuracy: 0.7956 - val_loss: 0.4101 - val_accuracy: 0.7877\n",
      "Epoch 35/100\n",
      "101/101 - 0s - loss: 0.4246 - accuracy: 0.7956 - val_loss: 0.4079 - val_accuracy: 0.7877\n",
      "Epoch 36/100\n",
      "101/101 - 0s - loss: 0.4254 - accuracy: 0.7953 - val_loss: 0.4112 - val_accuracy: 0.7877\n",
      "Epoch 37/100\n",
      "101/101 - 0s - loss: 0.4223 - accuracy: 0.7957 - val_loss: 0.4040 - val_accuracy: 0.7877\n",
      "Epoch 38/100\n",
      "101/101 - 0s - loss: 0.4224 - accuracy: 0.8055 - val_loss: 0.4073 - val_accuracy: 0.8267\n",
      "Epoch 39/100\n",
      "101/101 - 0s - loss: 0.4219 - accuracy: 0.8100 - val_loss: 0.4054 - val_accuracy: 0.8243\n",
      "Epoch 40/100\n",
      "101/101 - 0s - loss: 0.4194 - accuracy: 0.8140 - val_loss: 0.4019 - val_accuracy: 0.8255\n",
      "Epoch 41/100\n",
      "101/101 - 0s - loss: 0.4243 - accuracy: 0.8109 - val_loss: 0.4071 - val_accuracy: 0.8428\n",
      "Epoch 42/100\n",
      "101/101 - 0s - loss: 0.4201 - accuracy: 0.8101 - val_loss: 0.4050 - val_accuracy: 0.8335\n",
      "Epoch 43/100\n",
      "101/101 - 0s - loss: 0.4259 - accuracy: 0.8097 - val_loss: 0.4050 - val_accuracy: 0.8243\n",
      "Epoch 44/100\n",
      "101/101 - 0s - loss: 0.4181 - accuracy: 0.8172 - val_loss: 0.3953 - val_accuracy: 0.8391\n",
      "Epoch 45/100\n",
      "101/101 - 0s - loss: 0.4146 - accuracy: 0.8179 - val_loss: 0.3983 - val_accuracy: 0.8428\n",
      "Epoch 46/100\n",
      "101/101 - 0s - loss: 0.4165 - accuracy: 0.8193 - val_loss: 0.4148 - val_accuracy: 0.8131\n",
      "Epoch 47/100\n",
      "101/101 - 0s - loss: 0.4130 - accuracy: 0.8206 - val_loss: 0.3884 - val_accuracy: 0.8403\n",
      "Epoch 48/100\n",
      "101/101 - 0s - loss: 0.4103 - accuracy: 0.8194 - val_loss: 0.3912 - val_accuracy: 0.8342\n",
      "Epoch 49/100\n",
      "101/101 - 0s - loss: 0.4159 - accuracy: 0.8172 - val_loss: 0.3852 - val_accuracy: 0.8447\n",
      "Epoch 50/100\n",
      "101/101 - 0s - loss: 0.4126 - accuracy: 0.8162 - val_loss: 0.3804 - val_accuracy: 0.8521\n",
      "Epoch 51/100\n",
      "101/101 - 0s - loss: 0.4115 - accuracy: 0.8193 - val_loss: 0.3828 - val_accuracy: 0.8509\n",
      "Epoch 52/100\n",
      "101/101 - 0s - loss: 0.4046 - accuracy: 0.8236 - val_loss: 0.3835 - val_accuracy: 0.8410\n",
      "Epoch 53/100\n",
      "101/101 - 0s - loss: 0.4060 - accuracy: 0.8281 - val_loss: 0.3743 - val_accuracy: 0.8490\n",
      "Epoch 54/100\n",
      "101/101 - 0s - loss: 0.4054 - accuracy: 0.8242 - val_loss: 0.3871 - val_accuracy: 0.8397\n",
      "Epoch 55/100\n",
      "101/101 - 0s - loss: 0.3995 - accuracy: 0.8267 - val_loss: 0.3762 - val_accuracy: 0.8496\n",
      "Epoch 56/100\n",
      "101/101 - 0s - loss: 0.4029 - accuracy: 0.8265 - val_loss: 0.3743 - val_accuracy: 0.8472\n",
      "Epoch 57/100\n",
      "101/101 - 0s - loss: 0.4025 - accuracy: 0.8259 - val_loss: 0.3784 - val_accuracy: 0.8391\n",
      "Epoch 58/100\n",
      "101/101 - 0s - loss: 0.4015 - accuracy: 0.8279 - val_loss: 0.3768 - val_accuracy: 0.8453\n",
      "Epoch 59/100\n",
      "101/101 - 0s - loss: 0.3987 - accuracy: 0.8271 - val_loss: 0.3780 - val_accuracy: 0.8465\n",
      "Epoch 60/100\n",
      "101/101 - 0s - loss: 0.3955 - accuracy: 0.8299 - val_loss: 0.3711 - val_accuracy: 0.8502\n",
      "Epoch 61/100\n",
      "101/101 - 0s - loss: 0.4009 - accuracy: 0.8302 - val_loss: 0.3746 - val_accuracy: 0.8441\n",
      "Epoch 62/100\n",
      "101/101 - 0s - loss: 0.3980 - accuracy: 0.8341 - val_loss: 0.3737 - val_accuracy: 0.8496\n",
      "Epoch 63/100\n",
      "101/101 - 0s - loss: 0.4003 - accuracy: 0.8290 - val_loss: 0.3724 - val_accuracy: 0.8472\n",
      "Epoch 64/100\n",
      "101/101 - 0s - loss: 0.3922 - accuracy: 0.8298 - val_loss: 0.3622 - val_accuracy: 0.8540\n",
      "Epoch 65/100\n",
      "101/101 - 0s - loss: 0.3978 - accuracy: 0.8295 - val_loss: 0.3756 - val_accuracy: 0.8527\n",
      "Epoch 66/100\n",
      "101/101 - 0s - loss: 0.3887 - accuracy: 0.8391 - val_loss: 0.3659 - val_accuracy: 0.8496\n",
      "Epoch 67/100\n",
      "101/101 - 0s - loss: 0.3897 - accuracy: 0.8326 - val_loss: 0.3654 - val_accuracy: 0.8490\n",
      "Epoch 68/100\n",
      "101/101 - 0s - loss: 0.3927 - accuracy: 0.8278 - val_loss: 0.3812 - val_accuracy: 0.8354\n",
      "Epoch 69/100\n",
      "101/101 - 0s - loss: 0.4013 - accuracy: 0.8244 - val_loss: 0.3686 - val_accuracy: 0.8515\n",
      "Epoch 70/100\n",
      "101/101 - 0s - loss: 0.3892 - accuracy: 0.8336 - val_loss: 0.3736 - val_accuracy: 0.8502\n",
      "Epoch 71/100\n",
      "101/101 - 0s - loss: 0.3891 - accuracy: 0.8344 - val_loss: 0.3594 - val_accuracy: 0.8540\n",
      "Epoch 72/100\n",
      "101/101 - 0s - loss: 0.3858 - accuracy: 0.8347 - val_loss: 0.3718 - val_accuracy: 0.8453\n",
      "Epoch 73/100\n",
      "101/101 - 0s - loss: 0.3909 - accuracy: 0.8357 - val_loss: 0.3618 - val_accuracy: 0.8484\n",
      "Epoch 74/100\n",
      "101/101 - 0s - loss: 0.3869 - accuracy: 0.8367 - val_loss: 0.3843 - val_accuracy: 0.8360\n",
      "Epoch 75/100\n",
      "101/101 - 0s - loss: 0.3899 - accuracy: 0.8332 - val_loss: 0.3575 - val_accuracy: 0.8540\n",
      "Epoch 76/100\n",
      "101/101 - 0s - loss: 0.3858 - accuracy: 0.8374 - val_loss: 0.3698 - val_accuracy: 0.8484\n",
      "Epoch 77/100\n",
      "101/101 - 0s - loss: 0.3842 - accuracy: 0.8343 - val_loss: 0.3615 - val_accuracy: 0.8546\n",
      "Epoch 78/100\n",
      "101/101 - 0s - loss: 0.3857 - accuracy: 0.8346 - val_loss: 0.3594 - val_accuracy: 0.8571\n",
      "Epoch 79/100\n",
      "101/101 - 0s - loss: 0.3907 - accuracy: 0.8332 - val_loss: 0.3623 - val_accuracy: 0.8589\n",
      "Epoch 80/100\n",
      "101/101 - 0s - loss: 0.3842 - accuracy: 0.8378 - val_loss: 0.3724 - val_accuracy: 0.8366\n",
      "Epoch 81/100\n",
      "101/101 - 0s - loss: 0.3861 - accuracy: 0.8358 - val_loss: 0.3609 - val_accuracy: 0.8441\n"
     ]
    },
    {
     "name": "stdout",
     "output_type": "stream",
     "text": [
      "Epoch 82/100\n",
      "101/101 - 0s - loss: 0.3878 - accuracy: 0.8333 - val_loss: 0.3588 - val_accuracy: 0.8540\n",
      "Epoch 83/100\n",
      "101/101 - 0s - loss: 0.3841 - accuracy: 0.8357 - val_loss: 0.3556 - val_accuracy: 0.8558\n",
      "Epoch 84/100\n",
      "101/101 - 0s - loss: 0.3810 - accuracy: 0.8366 - val_loss: 0.3628 - val_accuracy: 0.8515\n",
      "Epoch 85/100\n",
      "101/101 - 0s - loss: 0.3778 - accuracy: 0.8432 - val_loss: 0.3575 - val_accuracy: 0.8601\n",
      "Epoch 86/100\n",
      "101/101 - 0s - loss: 0.3925 - accuracy: 0.8318 - val_loss: 0.3643 - val_accuracy: 0.8441\n",
      "Epoch 87/100\n",
      "101/101 - 0s - loss: 0.3851 - accuracy: 0.8346 - val_loss: 0.3542 - val_accuracy: 0.8533\n",
      "Epoch 88/100\n",
      "101/101 - 0s - loss: 0.3809 - accuracy: 0.8347 - val_loss: 0.3570 - val_accuracy: 0.8608\n",
      "Epoch 89/100\n",
      "101/101 - 0s - loss: 0.3805 - accuracy: 0.8403 - val_loss: 0.3559 - val_accuracy: 0.8552\n",
      "Epoch 90/100\n",
      "101/101 - 0s - loss: 0.3822 - accuracy: 0.8377 - val_loss: 0.3577 - val_accuracy: 0.8546\n",
      "Epoch 91/100\n",
      "101/101 - 0s - loss: 0.3775 - accuracy: 0.8384 - val_loss: 0.3492 - val_accuracy: 0.8595\n",
      "Epoch 92/100\n",
      "101/101 - 0s - loss: 0.3757 - accuracy: 0.8394 - val_loss: 0.3496 - val_accuracy: 0.8540\n",
      "Epoch 93/100\n",
      "101/101 - 0s - loss: 0.3738 - accuracy: 0.8429 - val_loss: 0.3539 - val_accuracy: 0.8558\n",
      "Epoch 94/100\n",
      "101/101 - 0s - loss: 0.3783 - accuracy: 0.8422 - val_loss: 0.3523 - val_accuracy: 0.8595\n",
      "Epoch 95/100\n",
      "101/101 - 0s - loss: 0.3748 - accuracy: 0.8422 - val_loss: 0.3531 - val_accuracy: 0.8540\n",
      "Epoch 96/100\n",
      "101/101 - 0s - loss: 0.3854 - accuracy: 0.8374 - val_loss: 0.3732 - val_accuracy: 0.8564\n",
      "Epoch 97/100\n",
      "101/101 - 0s - loss: 0.3852 - accuracy: 0.8370 - val_loss: 0.3657 - val_accuracy: 0.8459\n",
      "Epoch 98/100\n",
      "101/101 - 0s - loss: 0.3829 - accuracy: 0.8381 - val_loss: 0.3562 - val_accuracy: 0.8533\n",
      "Epoch 99/100\n",
      "101/101 - 0s - loss: 0.3741 - accuracy: 0.8445 - val_loss: 0.3576 - val_accuracy: 0.8441\n",
      "Epoch 100/100\n",
      "101/101 - 0s - loss: 0.3803 - accuracy: 0.8372 - val_loss: 0.3639 - val_accuracy: 0.8552\n"
     ]
    }
   ],
   "source": [
    "history = model1.fit(x_train_v2w, y_train, validation_split = 0.2, epochs=100, batch_size=64, verbose=2, shuffle=1)"
   ]
  },
  {
   "cell_type": "code",
   "execution_count": 34,
   "metadata": {},
   "outputs": [
    {
     "data": {
      "text/plain": [
       "Text(0.5, 0, 'epoch')"
      ]
     },
     "execution_count": 34,
     "metadata": {},
     "output_type": "execute_result"
    },
    {
     "data": {
      "image/png": "[encoded data removed]",
      "text/plain": [
       "<Figure size 432x288 with 1 Axes>"
      ]
     },
     "metadata": {
      "needs_background": "light"
     },
     "output_type": "display_data"
    }
   ],
   "source": [
    "plt.plot(history.history['loss'])\n",
    "plt.plot(history.history['val_loss'])\n",
    "plt.legend(['training','test'])\n",
    "plt.title('MODEL1: Loss')\n",
    "plt.xlabel('epoch')"
   ]
  },
  {
   "cell_type": "code",
   "execution_count": 35,
   "metadata": {
    "scrolled": true
   },
   "outputs": [
    {
     "data": {
      "text/plain": [
       "Text(0.5, 0, 'epoch')"
      ]
     },
     "execution_count": 35,
     "metadata": {},
     "output_type": "execute_result"
    },
    {
     "data": {
      "image/png": "[encoded data removed]",
      "text/plain": [
       "<Figure size 432x288 with 1 Axes>"
      ]
     },
     "metadata": {
      "needs_background": "light"
     },
     "output_type": "display_data"
    }
   ],
   "source": [
    "plt.plot(history.history['accuracy'])\n",
    "plt.plot(history.history['val_accuracy'])\n",
    "plt.legend(['training','test'])\n",
    "plt.title('MODEL1: Accuracy')\n",
    "plt.xlabel('epoch')"
   ]
  },
  {
   "cell_type": "code",
   "execution_count": 36,
   "metadata": {},
   "outputs": [],
   "source": [
    "score = model1.evaluate(x_test_v2w, y_test, verbose=0)"
   ]
  },
  {
   "cell_type": "code",
   "execution_count": 37,
   "metadata": {},
   "outputs": [
    {
     "name": "stdout",
     "output_type": "stream",
     "text": [
      "Test score: 0.36829447746276855\n",
      "Test accuracy: 0.8495523929595947\n"
     ]
    }
   ],
   "source": [
    "print('Test score:', score[0])\n",
    "print('Test accuracy:', score[1])"
   ]
  },
  {
   "cell_type": "code",
   "execution_count": 38,
   "metadata": {},
   "outputs": [
    {
     "name": "stdout",
     "output_type": "stream",
     "text": [
      "WARNING:tensorflow:From C:\\Users\\tashi\\anaconda3\\lib\\site-packages\\tensorflow\\python\\training\\tracking\\tracking.py:111: Model.state_updates (from tensorflow.python.keras.engine.training) is deprecated and will be removed in a future version.\n",
      "Instructions for updating:\n",
      "This property should not be used in TensorFlow 2.0, as updates are applied automatically.\n",
      "WARNING:tensorflow:From C:\\Users\\tashi\\anaconda3\\lib\\site-packages\\tensorflow\\python\\training\\tracking\\tracking.py:111: Layer.updates (from tensorflow.python.keras.engine.base_layer) is deprecated and will be removed in a future version.\n",
      "Instructions for updating:\n",
      "This property should not be used in TensorFlow 2.0, as updates are applied automatically.\n",
      "INFO:tensorflow:Assets written to: model1\\assets\n"
     ]
    }
   ],
   "source": [
    "#saving model\n",
    "model1.save(\"model1\")"
   ]
  },
  {
   "cell_type": "code",
   "execution_count": null,
   "metadata": {},
   "outputs": [],
   "source": []
  },
  {
   "cell_type": "markdown",
   "metadata": {},
   "source": [
    "## Model 2 - RMSprop()"
   ]
  },
  {
   "cell_type": "code",
   "execution_count": 39,
   "metadata": {},
   "outputs": [],
   "source": [
    "def model2():\n",
    "    model = Sequential()\n",
    "    model.add(Dense(40, activation='relu', input_dim=50))\n",
    "    model.add(Dropout(0.4))\n",
    "    model.add(Dense(20, activation='relu'))\n",
    "    model.add(Dropout(0.4))\n",
    "    model.add(Dense(8, activation='relu'))\n",
    "    model.add(Dense(1, activation='sigmoid'))\n",
    "\n",
    "    model.compile(RMSprop(lr = 0.01), loss='mse', metrics=['accuracy'])\n",
    "    print(model.summary())\n",
    "    return model"
   ]
  },
  {
   "cell_type": "code",
   "execution_count": 40,
   "metadata": {},
   "outputs": [
    {
     "name": "stdout",
     "output_type": "stream",
     "text": [
      "Model: \"sequential_1\"\n",
      "_________________________________________________________________\n",
      "Layer (type)                 Output Shape              Param #   \n",
      "=================================================================\n",
      "dense_4 (Dense)              (None, 40)                2040      \n",
      "_________________________________________________________________\n",
      "dropout_2 (Dropout)          (None, 40)                0         \n",
      "_________________________________________________________________\n",
      "dense_5 (Dense)              (None, 20)                820       \n",
      "_________________________________________________________________\n",
      "dropout_3 (Dropout)          (None, 20)                0         \n",
      "_________________________________________________________________\n",
      "dense_6 (Dense)              (None, 8)                 168       \n",
      "_________________________________________________________________\n",
      "dense_7 (Dense)              (None, 1)                 9         \n",
      "=================================================================\n",
      "Total params: 3,037\n",
      "Trainable params: 3,037\n",
      "Non-trainable params: 0\n",
      "_________________________________________________________________\n",
      "None\n"
     ]
    }
   ],
   "source": [
    "model2 = model2()"
   ]
  },
  {
   "cell_type": "code",
   "execution_count": 41,
   "metadata": {},
   "outputs": [
    {
     "name": "stdout",
     "output_type": "stream",
     "text": [
      "Epoch 1/100\n",
      "101/101 - 0s - loss: 0.1645 - accuracy: 0.7942 - val_loss: 0.1509 - val_accuracy: 0.8026\n",
      "Epoch 2/100\n",
      "101/101 - 0s - loss: 0.1565 - accuracy: 0.7945 - val_loss: 0.1477 - val_accuracy: 0.8026\n",
      "Epoch 3/100\n",
      "101/101 - 0s - loss: 0.1545 - accuracy: 0.7945 - val_loss: 0.1475 - val_accuracy: 0.8026\n",
      "Epoch 4/100\n",
      "101/101 - 0s - loss: 0.1539 - accuracy: 0.7945 - val_loss: 0.1501 - val_accuracy: 0.8026\n",
      "Epoch 5/100\n",
      "101/101 - 0s - loss: 0.1514 - accuracy: 0.7945 - val_loss: 0.1466 - val_accuracy: 0.8026\n",
      "Epoch 6/100\n",
      "101/101 - 0s - loss: 0.1524 - accuracy: 0.7945 - val_loss: 0.1443 - val_accuracy: 0.8026\n",
      "Epoch 7/100\n",
      "101/101 - 0s - loss: 0.1521 - accuracy: 0.7945 - val_loss: 0.1456 - val_accuracy: 0.8026\n",
      "Epoch 8/100\n",
      "101/101 - 0s - loss: 0.1513 - accuracy: 0.7945 - val_loss: 0.1475 - val_accuracy: 0.8026\n",
      "Epoch 9/100\n",
      "101/101 - 0s - loss: 0.1507 - accuracy: 0.7945 - val_loss: 0.1420 - val_accuracy: 0.8026\n",
      "Epoch 10/100\n",
      "101/101 - 0s - loss: 0.1501 - accuracy: 0.7945 - val_loss: 0.1419 - val_accuracy: 0.8026\n",
      "Epoch 11/100\n",
      "101/101 - 0s - loss: 0.1494 - accuracy: 0.7945 - val_loss: 0.1433 - val_accuracy: 0.8026\n",
      "Epoch 12/100\n",
      "101/101 - 0s - loss: 0.1486 - accuracy: 0.7945 - val_loss: 0.1404 - val_accuracy: 0.8026\n",
      "Epoch 13/100\n",
      "101/101 - 0s - loss: 0.1482 - accuracy: 0.7945 - val_loss: 0.1404 - val_accuracy: 0.8026\n",
      "Epoch 14/100\n",
      "101/101 - 0s - loss: 0.1480 - accuracy: 0.7945 - val_loss: 0.1407 - val_accuracy: 0.8026\n",
      "Epoch 15/100\n",
      "101/101 - 0s - loss: 0.1469 - accuracy: 0.7945 - val_loss: 0.1420 - val_accuracy: 0.8026\n",
      "Epoch 16/100\n",
      "101/101 - 0s - loss: 0.1456 - accuracy: 0.7945 - val_loss: 0.1377 - val_accuracy: 0.8026\n",
      "Epoch 17/100\n",
      "101/101 - 0s - loss: 0.1448 - accuracy: 0.7945 - val_loss: 0.1341 - val_accuracy: 0.8026\n",
      "Epoch 18/100\n",
      "101/101 - 0s - loss: 0.1459 - accuracy: 0.7945 - val_loss: 0.1394 - val_accuracy: 0.8026\n",
      "Epoch 19/100\n",
      "101/101 - 0s - loss: 0.1438 - accuracy: 0.7945 - val_loss: 0.1394 - val_accuracy: 0.8026\n",
      "Epoch 20/100\n",
      "101/101 - 0s - loss: 0.1428 - accuracy: 0.7945 - val_loss: 0.1439 - val_accuracy: 0.8026\n",
      "Epoch 21/100\n",
      "101/101 - 0s - loss: 0.1427 - accuracy: 0.7945 - val_loss: 0.1307 - val_accuracy: 0.8026\n",
      "Epoch 22/100\n",
      "101/101 - 0s - loss: 0.1434 - accuracy: 0.7945 - val_loss: 0.1403 - val_accuracy: 0.8026\n",
      "Epoch 23/100\n",
      "101/101 - 0s - loss: 0.1411 - accuracy: 0.7973 - val_loss: 0.1305 - val_accuracy: 0.8026\n",
      "Epoch 24/100\n",
      "101/101 - 0s - loss: 0.1436 - accuracy: 0.7951 - val_loss: 0.1486 - val_accuracy: 0.8026\n",
      "Epoch 25/100\n",
      "101/101 - 0s - loss: 0.1405 - accuracy: 0.7996 - val_loss: 0.1324 - val_accuracy: 0.8212\n",
      "Epoch 26/100\n",
      "101/101 - 0s - loss: 0.1422 - accuracy: 0.7996 - val_loss: 0.1351 - val_accuracy: 0.8181\n",
      "Epoch 27/100\n",
      "101/101 - 0s - loss: 0.1415 - accuracy: 0.8010 - val_loss: 0.1338 - val_accuracy: 0.8249\n",
      "Epoch 28/100\n",
      "101/101 - 0s - loss: 0.1401 - accuracy: 0.8022 - val_loss: 0.1295 - val_accuracy: 0.8187\n",
      "Epoch 29/100\n",
      "101/101 - 0s - loss: 0.1423 - accuracy: 0.8030 - val_loss: 0.1374 - val_accuracy: 0.8373\n",
      "Epoch 30/100\n",
      "101/101 - 0s - loss: 0.1385 - accuracy: 0.8073 - val_loss: 0.1289 - val_accuracy: 0.8187\n",
      "Epoch 31/100\n",
      "101/101 - 0s - loss: 0.1404 - accuracy: 0.8047 - val_loss: 0.1385 - val_accuracy: 0.8317\n",
      "Epoch 32/100\n",
      "101/101 - 0s - loss: 0.1408 - accuracy: 0.8058 - val_loss: 0.1387 - val_accuracy: 0.8385\n",
      "Epoch 33/100\n",
      "101/101 - 0s - loss: 0.1386 - accuracy: 0.8114 - val_loss: 0.1477 - val_accuracy: 0.7921\n",
      "Epoch 34/100\n",
      "101/101 - 0s - loss: 0.1393 - accuracy: 0.8092 - val_loss: 0.1682 - val_accuracy: 0.7506\n",
      "Epoch 35/100\n",
      "101/101 - 0s - loss: 0.1388 - accuracy: 0.8132 - val_loss: 0.1229 - val_accuracy: 0.8249\n",
      "Epoch 36/100\n",
      "101/101 - 0s - loss: 0.1392 - accuracy: 0.8152 - val_loss: 0.1239 - val_accuracy: 0.8230\n",
      "Epoch 37/100\n",
      "101/101 - 0s - loss: 0.1397 - accuracy: 0.8141 - val_loss: 0.1247 - val_accuracy: 0.8243\n",
      "Epoch 38/100\n",
      "101/101 - 0s - loss: 0.1377 - accuracy: 0.8134 - val_loss: 0.1362 - val_accuracy: 0.8255\n",
      "Epoch 39/100\n",
      "101/101 - 0s - loss: 0.1382 - accuracy: 0.8145 - val_loss: 0.1219 - val_accuracy: 0.8459\n",
      "Epoch 40/100\n",
      "101/101 - 0s - loss: 0.1371 - accuracy: 0.8171 - val_loss: 0.1316 - val_accuracy: 0.8385\n",
      "Epoch 41/100\n",
      "101/101 - 0s - loss: 0.1365 - accuracy: 0.8154 - val_loss: 0.1248 - val_accuracy: 0.8212\n",
      "Epoch 42/100\n",
      "101/101 - 0s - loss: 0.1375 - accuracy: 0.8149 - val_loss: 0.1256 - val_accuracy: 0.8366\n",
      "Epoch 43/100\n",
      "101/101 - 0s - loss: 0.1371 - accuracy: 0.8146 - val_loss: 0.1279 - val_accuracy: 0.8286\n",
      "Epoch 44/100\n",
      "101/101 - 0s - loss: 0.1372 - accuracy: 0.8163 - val_loss: 0.1268 - val_accuracy: 0.8385\n",
      "Epoch 45/100\n",
      "101/101 - 0s - loss: 0.1387 - accuracy: 0.8179 - val_loss: 0.1254 - val_accuracy: 0.8212\n",
      "Epoch 46/100\n",
      "101/101 - 0s - loss: 0.1363 - accuracy: 0.8197 - val_loss: 0.1223 - val_accuracy: 0.8465\n",
      "Epoch 47/100\n",
      "101/101 - 0s - loss: 0.1365 - accuracy: 0.8165 - val_loss: 0.1211 - val_accuracy: 0.8379\n",
      "Epoch 48/100\n",
      "101/101 - 0s - loss: 0.1353 - accuracy: 0.8163 - val_loss: 0.1300 - val_accuracy: 0.8391\n",
      "Epoch 49/100\n",
      "101/101 - 0s - loss: 0.1360 - accuracy: 0.8197 - val_loss: 0.1298 - val_accuracy: 0.8410\n",
      "Epoch 50/100\n",
      "101/101 - 0s - loss: 0.1342 - accuracy: 0.8200 - val_loss: 0.1471 - val_accuracy: 0.8230\n",
      "Epoch 51/100\n",
      "101/101 - 0s - loss: 0.1357 - accuracy: 0.8203 - val_loss: 0.1228 - val_accuracy: 0.8311\n",
      "Epoch 52/100\n",
      "101/101 - 0s - loss: 0.1369 - accuracy: 0.8175 - val_loss: 0.1484 - val_accuracy: 0.8125\n",
      "Epoch 53/100\n",
      "101/101 - 0s - loss: 0.1357 - accuracy: 0.8191 - val_loss: 0.1367 - val_accuracy: 0.8280\n",
      "Epoch 54/100\n",
      "101/101 - 0s - loss: 0.1361 - accuracy: 0.8214 - val_loss: 0.1241 - val_accuracy: 0.8342\n",
      "Epoch 55/100\n",
      "101/101 - 0s - loss: 0.1358 - accuracy: 0.8168 - val_loss: 0.1581 - val_accuracy: 0.8106\n",
      "Epoch 56/100\n",
      "101/101 - 0s - loss: 0.1349 - accuracy: 0.8223 - val_loss: 0.1236 - val_accuracy: 0.8428\n",
      "Epoch 57/100\n",
      "101/101 - 0s - loss: 0.1353 - accuracy: 0.8188 - val_loss: 0.1409 - val_accuracy: 0.8267\n",
      "Epoch 58/100\n",
      "101/101 - 0s - loss: 0.1329 - accuracy: 0.8175 - val_loss: 0.1261 - val_accuracy: 0.8261\n",
      "Epoch 59/100\n",
      "101/101 - 0s - loss: 0.1343 - accuracy: 0.8186 - val_loss: 0.1206 - val_accuracy: 0.8391\n",
      "Epoch 60/100\n",
      "101/101 - 0s - loss: 0.1352 - accuracy: 0.8233 - val_loss: 0.1196 - val_accuracy: 0.8453\n",
      "Epoch 61/100\n",
      "101/101 - 0s - loss: 0.1320 - accuracy: 0.8247 - val_loss: 0.1382 - val_accuracy: 0.8193\n",
      "Epoch 62/100\n",
      "101/101 - 0s - loss: 0.1347 - accuracy: 0.8222 - val_loss: 0.1202 - val_accuracy: 0.8329\n",
      "Epoch 63/100\n",
      "101/101 - 0s - loss: 0.1344 - accuracy: 0.8214 - val_loss: 0.1274 - val_accuracy: 0.8335\n",
      "Epoch 64/100\n",
      "101/101 - 0s - loss: 0.1329 - accuracy: 0.8240 - val_loss: 0.1224 - val_accuracy: 0.8162\n",
      "Epoch 65/100\n",
      "101/101 - 0s - loss: 0.1320 - accuracy: 0.8237 - val_loss: 0.1284 - val_accuracy: 0.8422\n",
      "Epoch 66/100\n",
      "101/101 - 0s - loss: 0.1328 - accuracy: 0.8228 - val_loss: 0.1202 - val_accuracy: 0.8484\n",
      "Epoch 67/100\n",
      "101/101 - 0s - loss: 0.1323 - accuracy: 0.8236 - val_loss: 0.1268 - val_accuracy: 0.8428\n",
      "Epoch 68/100\n",
      "101/101 - 0s - loss: 0.1331 - accuracy: 0.8228 - val_loss: 0.1187 - val_accuracy: 0.8410\n",
      "Epoch 69/100\n",
      "101/101 - 0s - loss: 0.1316 - accuracy: 0.8267 - val_loss: 0.1178 - val_accuracy: 0.8441\n",
      "Epoch 70/100\n",
      "101/101 - 0s - loss: 0.1318 - accuracy: 0.8216 - val_loss: 0.1316 - val_accuracy: 0.8267\n",
      "Epoch 71/100\n",
      "101/101 - 0s - loss: 0.1334 - accuracy: 0.8230 - val_loss: 0.1253 - val_accuracy: 0.8385\n",
      "Epoch 72/100\n",
      "101/101 - 0s - loss: 0.1304 - accuracy: 0.8273 - val_loss: 0.1192 - val_accuracy: 0.8379\n",
      "Epoch 73/100\n",
      "101/101 - 0s - loss: 0.1334 - accuracy: 0.8210 - val_loss: 0.1191 - val_accuracy: 0.8465\n",
      "Epoch 74/100\n",
      "101/101 - 0s - loss: 0.1304 - accuracy: 0.8284 - val_loss: 0.1409 - val_accuracy: 0.8255\n",
      "Epoch 75/100\n",
      "101/101 - 0s - loss: 0.1321 - accuracy: 0.8228 - val_loss: 0.1395 - val_accuracy: 0.8168\n",
      "Epoch 76/100\n",
      "101/101 - 0s - loss: 0.1319 - accuracy: 0.8240 - val_loss: 0.1196 - val_accuracy: 0.8447\n",
      "Epoch 77/100\n",
      "101/101 - 0s - loss: 0.1330 - accuracy: 0.8220 - val_loss: 0.1206 - val_accuracy: 0.8323\n",
      "Epoch 78/100\n",
      "101/101 - 0s - loss: 0.1321 - accuracy: 0.8216 - val_loss: 0.1207 - val_accuracy: 0.8366\n",
      "Epoch 79/100\n",
      "101/101 - 0s - loss: 0.1322 - accuracy: 0.8279 - val_loss: 0.1195 - val_accuracy: 0.8434\n",
      "Epoch 80/100\n",
      "101/101 - 0s - loss: 0.1300 - accuracy: 0.8267 - val_loss: 0.1188 - val_accuracy: 0.8490\n",
      "Epoch 81/100\n",
      "101/101 - 0s - loss: 0.1323 - accuracy: 0.8244 - val_loss: 0.1189 - val_accuracy: 0.8354\n"
     ]
    },
    {
     "name": "stdout",
     "output_type": "stream",
     "text": [
      "Epoch 82/100\n",
      "101/101 - 0s - loss: 0.1336 - accuracy: 0.8231 - val_loss: 0.1188 - val_accuracy: 0.8459\n",
      "Epoch 83/100\n",
      "101/101 - 0s - loss: 0.1314 - accuracy: 0.8245 - val_loss: 0.1191 - val_accuracy: 0.8434\n",
      "Epoch 84/100\n",
      "101/101 - 0s - loss: 0.1312 - accuracy: 0.8251 - val_loss: 0.1178 - val_accuracy: 0.8465\n",
      "Epoch 85/100\n",
      "101/101 - 0s - loss: 0.1315 - accuracy: 0.8305 - val_loss: 0.1217 - val_accuracy: 0.8434\n",
      "Epoch 86/100\n",
      "101/101 - 0s - loss: 0.1314 - accuracy: 0.8258 - val_loss: 0.1214 - val_accuracy: 0.8472\n",
      "Epoch 87/100\n",
      "101/101 - 0s - loss: 0.1296 - accuracy: 0.8251 - val_loss: 0.1373 - val_accuracy: 0.8261\n",
      "Epoch 88/100\n",
      "101/101 - 0s - loss: 0.1288 - accuracy: 0.8312 - val_loss: 0.1421 - val_accuracy: 0.8193\n",
      "Epoch 89/100\n",
      "101/101 - 0s - loss: 0.1300 - accuracy: 0.8264 - val_loss: 0.1275 - val_accuracy: 0.8342\n",
      "Epoch 90/100\n",
      "101/101 - 0s - loss: 0.1299 - accuracy: 0.8254 - val_loss: 0.1216 - val_accuracy: 0.8410\n",
      "Epoch 91/100\n",
      "101/101 - 0s - loss: 0.1306 - accuracy: 0.8251 - val_loss: 0.1175 - val_accuracy: 0.8428\n",
      "Epoch 92/100\n",
      "101/101 - 0s - loss: 0.1300 - accuracy: 0.8279 - val_loss: 0.1155 - val_accuracy: 0.8478\n",
      "Epoch 93/100\n",
      "101/101 - 0s - loss: 0.1298 - accuracy: 0.8242 - val_loss: 0.1366 - val_accuracy: 0.8323\n",
      "Epoch 94/100\n",
      "101/101 - 0s - loss: 0.1302 - accuracy: 0.8292 - val_loss: 0.1267 - val_accuracy: 0.8354\n",
      "Epoch 95/100\n",
      "101/101 - 0s - loss: 0.1279 - accuracy: 0.8318 - val_loss: 0.1168 - val_accuracy: 0.8465\n",
      "Epoch 96/100\n",
      "101/101 - 0s - loss: 0.1311 - accuracy: 0.8261 - val_loss: 0.1183 - val_accuracy: 0.8298\n",
      "Epoch 97/100\n",
      "101/101 - 0s - loss: 0.1299 - accuracy: 0.8265 - val_loss: 0.1197 - val_accuracy: 0.8397\n",
      "Epoch 98/100\n",
      "101/101 - 0s - loss: 0.1305 - accuracy: 0.8234 - val_loss: 0.1188 - val_accuracy: 0.8422\n",
      "Epoch 99/100\n",
      "101/101 - 0s - loss: 0.1308 - accuracy: 0.8205 - val_loss: 0.1185 - val_accuracy: 0.8416\n",
      "Epoch 100/100\n",
      "101/101 - 0s - loss: 0.1295 - accuracy: 0.8276 - val_loss: 0.1153 - val_accuracy: 0.8502\n"
     ]
    }
   ],
   "source": [
    "history2 = model2.fit(x_train_v2w, y_train, validation_split = 0.2, epochs=100, batch_size=64, verbose=2, shuffle = 1)"
   ]
  },
  {
   "cell_type": "code",
   "execution_count": 42,
   "metadata": {},
   "outputs": [
    {
     "data": {
      "text/plain": [
       "Text(0.5, 0, 'epoch')"
      ]
     },
     "execution_count": 42,
     "metadata": {},
     "output_type": "execute_result"
    },
    {
     "data": {
      "image/png": "[encoded data removed]",
      "text/plain": [
       "<Figure size 432x288 with 1 Axes>"
      ]
     },
     "metadata": {
      "needs_background": "light"
     },
     "output_type": "display_data"
    }
   ],
   "source": [
    "plt.plot(history2.history['loss'])\n",
    "plt.plot(history2.history['val_loss'])\n",
    "plt.legend(['training','test'])\n",
    "plt.title('MODEL2: Loss')\n",
    "plt.xlabel('epoch')"
   ]
  },
  {
   "cell_type": "code",
   "execution_count": 43,
   "metadata": {},
   "outputs": [
    {
     "data": {
      "text/plain": [
       "Text(0.5, 0, 'epoch')"
      ]
     },
     "execution_count": 43,
     "metadata": {},
     "output_type": "execute_result"
    },
    {
     "data": {
      "image/png": "[encoded data removed]",
      "text/plain": [
       "<Figure size 432x288 with 1 Axes>"
      ]
     },
     "metadata": {
      "needs_background": "light"
     },
     "output_type": "display_data"
    }
   ],
   "source": [
    "plt.plot(history2.history['accuracy'])\n",
    "plt.plot(history2.history['val_accuracy'])\n",
    "plt.legend(['training','test'])\n",
    "plt.title('MODEL2: Accuracy')\n",
    "plt.xlabel('epoch')"
   ]
  },
  {
   "cell_type": "code",
   "execution_count": 44,
   "metadata": {},
   "outputs": [
    {
     "name": "stdout",
     "output_type": "stream",
     "text": [
      "109/109 [==============================] - 0s 540us/step - loss: 0.1176 - accuracy: 0.8429\n"
     ]
    }
   ],
   "source": [
    "score2 = model2.evaluate(x_test_v2w, y_test, verbose=1)"
   ]
  },
  {
   "cell_type": "code",
   "execution_count": 45,
   "metadata": {},
   "outputs": [
    {
     "name": "stdout",
     "output_type": "stream",
     "text": [
      "Test score: 0.11762043833732605\n",
      "Test accuracy: 0.8429107666015625\n"
     ]
    }
   ],
   "source": [
    "print('Test score:', score2[0])\n",
    "print('Test accuracy:', score2[1])"
   ]
  },
  {
   "cell_type": "code",
   "execution_count": null,
   "metadata": {},
   "outputs": [],
   "source": []
  },
  {
   "cell_type": "code",
   "execution_count": 46,
   "metadata": {},
   "outputs": [
    {
     "name": "stdout",
     "output_type": "stream",
     "text": [
      "INFO:tensorflow:Assets written to: model2\\assets\n"
     ]
    }
   ],
   "source": [
    "#to save model\n",
    "model2.save(\"model2\")\n"
   ]
  },
  {
   "cell_type": "code",
   "execution_count": 65,
   "metadata": {},
   "outputs": [],
   "source": [
    "\n",
    "#to load model https://www.tensorflow.org/guide/keras/save_and_serialize\n",
    "reconstructed_model = keras.models.load_model(r\"tashi/model2\")"
   ]
  },
  {
   "cell_type": "code",
   "execution_count": null,
   "metadata": {},
   "outputs": [],
   "source": []
  }
 ],
 "metadata": {
  "kernelspec": {
   "display_name": "Python 3",
   "language": "python",
   "name": "python3"
  },
  "language_info": {
   "codemirror_mode": {
    "name": "ipython",
    "version": 3
   },
   "file_extension": ".py",
   "mimetype": "text/x-python",
   "name": "python",
   "nbconvert_exporter": "python",
   "pygments_lexer": "ipython3",
   "version": "3.8.3"
  }
 },
 "nbformat": 4,
 "nbformat_minor": 4
}
